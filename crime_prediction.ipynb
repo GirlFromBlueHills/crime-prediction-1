{
 "cells": [
  {
   "cell_type": "markdown",
   "metadata": {},
   "source": [
    "## CS 584 Machine Learning : Homework Project: Crime Prediction\n",
    "---\n",
    "### Team Members:\n",
    " * Jadhav Aditya CWID\n",
    " * Sumedha Gupta CWID\n"
   ]
  },
  {
   "cell_type": "code",
   "execution_count": 649,
   "metadata": {
    "collapsed": false
   },
   "outputs": [],
   "source": [
    "import pandas as pd # panda's nickname is pd\n",
    "import numpy as np\n",
    "import sklearn.metrics as metrics\n",
    "from sklearn.tree import DecisionTreeClassifier, export_graphviz\n",
    "from sklearn import svm\n",
    "from sklearn.model_selection import cross_val_score\n",
    "from sklearn.linear_model import LogisticRegression\n",
    "from  sklearn.linear_model import LinearRegression\n",
    "from sklearn.naive_bayes import GaussianNB\n",
    "from sklearn.model_selection import validation_curve\n",
    "from sklearn.preprocessing import binarize\n",
    "import matplotlib.pyplot as plot\n",
    "from sklearn import linear_model\n",
    "from IPython.display import Image \n",
    "from sklearn.preprocessing import Imputer\n",
    "from sklearn.preprocessing import PolynomialFeatures\n",
    "from sklearn import tree\n",
    "import sklearn.preprocessing as prep\n",
    "import pydotplus \n",
    "\n",
    "from sklearn.ensemble import GradientBoostingClassifier\n"
   ]
  },
  {
   "cell_type": "code",
   "execution_count": null,
   "metadata": {
    "collapsed": true
   },
   "outputs": [],
   "source": []
  },
  {
   "cell_type": "markdown",
   "metadata": {},
   "source": [
    "#### Load the communities-crime-clean.csv file into a dataframe object\n"
   ]
  },
  {
   "cell_type": "code",
   "execution_count": 672,
   "metadata": {
    "collapsed": false
   },
   "outputs": [
    {
     "name": "stdout",
     "output_type": "stream",
     "text": [
      "3.2.2\n"
     ]
    }
   ],
   "source": [
    "communities_crime_df = pd.read_csv('communities-crime-clean.csv')\n",
    "\n",
    "# Sanity test we have good data\n",
    "#communities_crime_df.head()\n",
    "import nltk\n",
    "print(nltk.__version__)"
   ]
  },
  {
   "cell_type": "markdown",
   "metadata": {},
   "source": [
    "### Q1. Decision Trees\n",
    "---\n",
    "#### a) Create a new field “highCrime” which is true if the crime rate per capita (ViolentCrimesPerPop) is greater than 0.1, and false otherwise. What are the percentage of positive and negative instances in the dataset?"
   ]
  },
  {
   "cell_type": "code",
   "execution_count": 651,
   "metadata": {
    "collapsed": false
   },
   "outputs": [
    {
     "data": {
      "text/plain": [
       "highCrime\n",
       "False    37.280482\n",
       "True     62.719518\n",
       "dtype: float64"
      ]
     },
     "execution_count": 651,
     "metadata": {},
     "output_type": "execute_result"
    }
   ],
   "source": [
    "def setHighCrime(df):\n",
    "    if df['ViolentCrimesPerPop'] > 0.1:\n",
    "        return True\n",
    "    else:\n",
    "        return False\n",
    "\n",
    "communities_crime_df['highCrime'] = communities_crime_df.apply(setHighCrime, axis=1)\n",
    "communities_crime_df.groupby('highCrime').size() * 100 / len(communities_crime_df)\n",
    "\n"
   ]
  },
  {
   "cell_type": "markdown",
   "metadata": {},
   "source": [
    "#### b) Use DecisionTreeClassifier to learn a decision tree to predict highCrime on the entire dataset  \n",
    "##### i. What are the training accuracy, precision, and recall for this tree?"
   ]
  },
  {
   "cell_type": "code",
   "execution_count": 652,
   "metadata": {
    "collapsed": false
   },
   "outputs": [
    {
     "name": "stdout",
     "output_type": "stream",
     "text": [
      "Training Accuracy = 1.0 Precision = 1.0 Recall = 1.0\n"
     ]
    }
   ],
   "source": [
    "df = communities_crime_df.drop('ViolentCrimesPerPop', axis=1).drop('state', axis=1).drop('communityname', axis=1).drop('fold', axis=1).drop('highCrime', axis=1)\n",
    "\n",
    "\n",
    "features = list(df.columns)\n",
    "\n",
    "y = communities_crime_df[\"highCrime\"]\n",
    "X = df\n",
    "dt = DecisionTreeClassifier()\n",
    "\n",
    "dt.fit(X,y)\n",
    "predicted = dt.predict(df[features])\n",
    "#communities_crime_df['Predicted_HighCrime'] = pd.Series(p, index=communities_crime_df.index)\n",
    "#dot_data = tree.export_graphviz(dt, out_file=None)\n",
    "#graph = pydotplus.graph_from_dot_data(dot_data)  \n",
    "#Image(graph.create_png()) \n",
    "#Thus in binary classification, the count of true negatives is C_{0,0}, false negatives is C_{1,0}, true positives is C_{1,1} and false positives is C_{0,1}.\n",
    "#metrics.confusion_matrix(communities_crime_df['highCrime'], predicted)\n",
    "recall_score = metrics.recall_score(communities_crime_df['highCrime'], predicted)\n",
    "precision_score = metrics.precision_score(communities_crime_df['highCrime'], predicted)\n",
    "accuracy_score = metrics.accuracy_score(communities_crime_df['highCrime'], predicted)\n",
    "\n",
    "print(\"Training Accuracy = {} Precision = {} Recall = {}\".format(accuracy_score,precision_score,recall_score))"
   ]
  },
  {
   "cell_type": "code",
   "execution_count": null,
   "metadata": {
    "collapsed": false
   },
   "outputs": [],
   "source": []
  },
  {
   "cell_type": "markdown",
   "metadata": {
    "collapsed": false
   },
   "source": [
    "##### ii. What are the main features used for classification? Can you explain why they make sense (or not)?\n",
    "TODO\n"
   ]
  },
  {
   "cell_type": "markdown",
   "metadata": {},
   "source": [
    "#### c. Now apply cross-validation (cross_val_score) to do 10-fold cross-validation to estimate the out-of-training accuracy of decision tree learning for this task.  \n",
    "##### i. What are the 10-fold cross-validation accuracy, precision, and recall?"
   ]
  },
  {
   "cell_type": "code",
   "execution_count": 653,
   "metadata": {
    "collapsed": false
   },
   "outputs": [
    {
     "name": "stdout",
     "output_type": "stream",
     "text": [
      "Results after applying 10-fold cross-validation\n",
      "Accuracy: 0.73 (+/- 0.05)\n",
      "Recall 0.7728\n",
      "Precision 0.78313350665\n"
     ]
    }
   ],
   "source": [
    "scores = cross_val_score(dt, X, y, cv=10)\n",
    "\n",
    "precision= cross_val_score(dt, X, y, cv=10, scoring='precision')\n",
    "recal = cross_val_score(dt, X, y, cv=10, scoring='recall')\n",
    "print(\"Results after applying 10-fold cross-validation\")\n",
    "print(\"Accuracy: %0.2f (+/- %0.2f)\" % (scores.mean(), scores.std()))\n",
    "print(\"Recall\", np.mean(recal))\n",
    "print(\"Precision\", np.mean(precision))\n"
   ]
  },
  {
   "cell_type": "markdown",
   "metadata": {},
   "source": [
    "##### ii. Why are they different from the results in the previous test?\n",
    "TODO"
   ]
  },
  {
   "cell_type": "markdown",
   "metadata": {},
   "source": [
    "### 2. Linear Classification\n",
    "---\n",
    "#### a. Use GaussianNB to learn a Naive Bayes classifier to predict highCrime.  \n",
    "##### i. What is the 10-fold cross-validation accuracy, precision, and recall for this method?"
   ]
  },
  {
   "cell_type": "code",
   "execution_count": 654,
   "metadata": {
    "collapsed": false
   },
   "outputs": [
    {
     "name": "stdout",
     "output_type": "stream",
     "text": [
      "0.692\n",
      "0.911799814828\n",
      "Accuracy: 0.76 (+/- 0.05)\n"
     ]
    }
   ],
   "source": [
    "clf = GaussianNB()\n",
    "\n",
    "clf.fit(X, y)\n",
    "predicted = clf.predict(communities_crime_df[features])\n",
    "#communities_crime_df['abc'] = pd.Series(p, index=communities_crime_df.index)\n",
    "#communities_crime_df\n",
    "#communities_crime_df.head()\n",
    "#for i in communities_crime_df['abc']:\n",
    "#for index, row in communities_crime_df.iterrows():    \n",
    "#    print(type(row['abc']))\n",
    "#confusion_matrix(communities_crime_df['highCrime_Boolean'], communities_crime_df['abc'])\n",
    "#recall_score(communities_crime_df['highCrime'], communities_crime_df['abc'])\n",
    "#recall_score(a['highCrime_Boolean'], a['abc'])\n",
    "#communities_crime_df.head()\n",
    "#accuracy_score1 = metrics.recall_score(communities_crime_df['highCrime'], predicted)\n",
    "scores = cross_val_score(clf, X, y, cv=10)\n",
    "precision= cross_val_score(clf, X, y, cv=10, scoring='precision')\n",
    "recal = cross_val_score(clf, X, y, cv=10, scoring='recall')\n",
    "print(np.mean(recal))\n",
    "print(np.mean(precision))\n",
    "print(\"Accuracy: %0.2f (+/- %0.2f)\" % (scores.mean(), scores.std()))\n",
    "\n"
   ]
  },
  {
   "cell_type": "markdown",
   "metadata": {},
   "source": [
    "What are the 10 most predictive features? This can be\n",
    "measured by the normalized absolute difference of means for\n",
    "the feature between the two classes:\n",
    "|𝜇𝑇 − 𝜇𝐹|/𝜎𝑇 + 𝜎𝐹\n",
    "The larger this different, the more predictive the feature. Why\n",
    "do these make sense (or not)?"
   ]
  },
  {
   "cell_type": "code",
   "execution_count": 655,
   "metadata": {
    "collapsed": false
   },
   "outputs": [
    {
     "name": "stdout",
     "output_type": "stream",
     "text": [
      "('racePctWhite', 3.4402715072040073)\n",
      "('PctIlleg', 3.466925445469923)\n",
      "('PctYoungKids2Par', 3.644782922632504)\n",
      "('MalePctDivorce', 3.9465337329938555)\n",
      "('PctTeen2Par', 3.9954561774196335)\n",
      "('TotalPctDiv', 4.3812734118491115)\n",
      "('pctWInvInc', 4.390239171514135)\n",
      "('PctFam2Par', 4.5894616248835165)\n",
      "('FemalePctDiv', 4.751737777973133)\n",
      "('PctKids2Par', 4.996478183496772)\n"
     ]
    },
    {
     "data": {
      "text/html": [
       "<div>\n",
       "<table border=\"1\" class=\"dataframe\">\n",
       "  <thead>\n",
       "    <tr style=\"text-align: right;\">\n",
       "      <th></th>\n",
       "      <th>population</th>\n",
       "      <th>householdsize</th>\n",
       "      <th>racepctblack</th>\n",
       "      <th>racePctWhite</th>\n",
       "      <th>racePctAsian</th>\n",
       "      <th>racePctHisp</th>\n",
       "      <th>agePct12t21</th>\n",
       "      <th>agePct12t29</th>\n",
       "      <th>agePct16t24</th>\n",
       "      <th>agePct65up</th>\n",
       "      <th>...</th>\n",
       "      <th>PctBornSameState</th>\n",
       "      <th>PctSameHouse85</th>\n",
       "      <th>PctSameCity85</th>\n",
       "      <th>PctSameState85</th>\n",
       "      <th>LandArea</th>\n",
       "      <th>PopDens</th>\n",
       "      <th>PctUsePubTrans</th>\n",
       "      <th>LemasPctOfficDrugUn</th>\n",
       "      <th>ViolentCrimesPerPop</th>\n",
       "      <th>highCrime</th>\n",
       "    </tr>\n",
       "  </thead>\n",
       "  <tbody>\n",
       "    <tr>\n",
       "      <th>0</th>\n",
       "      <td>0.01</td>\n",
       "      <td>0.61</td>\n",
       "      <td>0.21</td>\n",
       "      <td>0.83</td>\n",
       "      <td>0.02</td>\n",
       "      <td>0.01</td>\n",
       "      <td>0.41</td>\n",
       "      <td>0.49</td>\n",
       "      <td>0.26</td>\n",
       "      <td>0.21</td>\n",
       "      <td>...</td>\n",
       "      <td>0.70</td>\n",
       "      <td>0.40</td>\n",
       "      <td>0.34</td>\n",
       "      <td>0.57</td>\n",
       "      <td>0.05</td>\n",
       "      <td>0.06</td>\n",
       "      <td>0.01</td>\n",
       "      <td>0.0</td>\n",
       "      <td>0.06</td>\n",
       "      <td>False</td>\n",
       "    </tr>\n",
       "    <tr>\n",
       "      <th>1</th>\n",
       "      <td>0.01</td>\n",
       "      <td>0.41</td>\n",
       "      <td>0.55</td>\n",
       "      <td>0.57</td>\n",
       "      <td>0.01</td>\n",
       "      <td>0.00</td>\n",
       "      <td>0.47</td>\n",
       "      <td>0.45</td>\n",
       "      <td>0.31</td>\n",
       "      <td>0.57</td>\n",
       "      <td>...</td>\n",
       "      <td>0.93</td>\n",
       "      <td>0.66</td>\n",
       "      <td>0.82</td>\n",
       "      <td>0.84</td>\n",
       "      <td>0.11</td>\n",
       "      <td>0.03</td>\n",
       "      <td>0.01</td>\n",
       "      <td>0.0</td>\n",
       "      <td>0.14</td>\n",
       "      <td>True</td>\n",
       "    </tr>\n",
       "    <tr>\n",
       "      <th>2</th>\n",
       "      <td>0.03</td>\n",
       "      <td>0.34</td>\n",
       "      <td>0.86</td>\n",
       "      <td>0.30</td>\n",
       "      <td>0.04</td>\n",
       "      <td>0.01</td>\n",
       "      <td>0.41</td>\n",
       "      <td>0.42</td>\n",
       "      <td>0.27</td>\n",
       "      <td>0.59</td>\n",
       "      <td>...</td>\n",
       "      <td>0.77</td>\n",
       "      <td>0.59</td>\n",
       "      <td>0.70</td>\n",
       "      <td>0.64</td>\n",
       "      <td>0.06</td>\n",
       "      <td>0.11</td>\n",
       "      <td>0.04</td>\n",
       "      <td>0.0</td>\n",
       "      <td>1.00</td>\n",
       "      <td>True</td>\n",
       "    </tr>\n",
       "    <tr>\n",
       "      <th>3</th>\n",
       "      <td>0.01</td>\n",
       "      <td>0.38</td>\n",
       "      <td>0.35</td>\n",
       "      <td>0.71</td>\n",
       "      <td>0.04</td>\n",
       "      <td>0.01</td>\n",
       "      <td>0.39</td>\n",
       "      <td>0.46</td>\n",
       "      <td>0.31</td>\n",
       "      <td>0.49</td>\n",
       "      <td>...</td>\n",
       "      <td>0.78</td>\n",
       "      <td>0.56</td>\n",
       "      <td>0.67</td>\n",
       "      <td>0.71</td>\n",
       "      <td>0.09</td>\n",
       "      <td>0.05</td>\n",
       "      <td>0.00</td>\n",
       "      <td>0.0</td>\n",
       "      <td>0.23</td>\n",
       "      <td>True</td>\n",
       "    </tr>\n",
       "    <tr>\n",
       "      <th>4</th>\n",
       "      <td>0.04</td>\n",
       "      <td>0.37</td>\n",
       "      <td>0.32</td>\n",
       "      <td>0.70</td>\n",
       "      <td>0.21</td>\n",
       "      <td>0.02</td>\n",
       "      <td>1.00</td>\n",
       "      <td>1.00</td>\n",
       "      <td>1.00</td>\n",
       "      <td>0.14</td>\n",
       "      <td>...</td>\n",
       "      <td>0.49</td>\n",
       "      <td>0.12</td>\n",
       "      <td>0.00</td>\n",
       "      <td>0.15</td>\n",
       "      <td>0.09</td>\n",
       "      <td>0.09</td>\n",
       "      <td>0.01</td>\n",
       "      <td>0.0</td>\n",
       "      <td>0.15</td>\n",
       "      <td>True</td>\n",
       "    </tr>\n",
       "  </tbody>\n",
       "</table>\n",
       "<p>5 rows × 102 columns</p>\n",
       "</div>"
      ],
      "text/plain": [
       "   population  householdsize  racepctblack  racePctWhite  racePctAsian  \\\n",
       "0        0.01           0.61          0.21          0.83          0.02   \n",
       "1        0.01           0.41          0.55          0.57          0.01   \n",
       "2        0.03           0.34          0.86          0.30          0.04   \n",
       "3        0.01           0.38          0.35          0.71          0.04   \n",
       "4        0.04           0.37          0.32          0.70          0.21   \n",
       "\n",
       "   racePctHisp  agePct12t21  agePct12t29  agePct16t24  agePct65up    ...      \\\n",
       "0         0.01         0.41         0.49         0.26        0.21    ...       \n",
       "1         0.00         0.47         0.45         0.31        0.57    ...       \n",
       "2         0.01         0.41         0.42         0.27        0.59    ...       \n",
       "3         0.01         0.39         0.46         0.31        0.49    ...       \n",
       "4         0.02         1.00         1.00         1.00        0.14    ...       \n",
       "\n",
       "   PctBornSameState  PctSameHouse85  PctSameCity85  PctSameState85  LandArea  \\\n",
       "0              0.70            0.40           0.34            0.57      0.05   \n",
       "1              0.93            0.66           0.82            0.84      0.11   \n",
       "2              0.77            0.59           0.70            0.64      0.06   \n",
       "3              0.78            0.56           0.67            0.71      0.09   \n",
       "4              0.49            0.12           0.00            0.15      0.09   \n",
       "\n",
       "   PopDens  PctUsePubTrans  LemasPctOfficDrugUn  ViolentCrimesPerPop  \\\n",
       "0     0.06            0.01                  0.0                 0.06   \n",
       "1     0.03            0.01                  0.0                 0.14   \n",
       "2     0.11            0.04                  0.0                 1.00   \n",
       "3     0.05            0.00                  0.0                 0.23   \n",
       "4     0.09            0.01                  0.0                 0.15   \n",
       "\n",
       "   highCrime  \n",
       "0      False  \n",
       "1       True  \n",
       "2       True  \n",
       "3       True  \n",
       "4       True  \n",
       "\n",
       "[5 rows x 102 columns]"
      ]
     },
     "execution_count": 655,
     "metadata": {},
     "output_type": "execute_result"
    }
   ],
   "source": [
    "dfPredictiveFeature = communities_crime_df.drop('state', axis=1).drop('communityname', axis=1).drop('fold', axis=1)\n",
    "\n",
    "dictPredFeature = {}\n",
    "for column in dfPredictiveFeature:\n",
    "    meanTrue = dfPredictiveFeature[dfPredictiveFeature['highCrime'] == 1][column].mean()\n",
    "    meanFalse = dfPredictiveFeature[dfPredictiveFeature['highCrime'] == 0][column].mean()\n",
    "    varTrue = dfPredictiveFeature[dfPredictiveFeature['highCrime'] == 1][column].var()\n",
    "    varFalse = dfPredictiveFeature[dfPredictiveFeature['highCrime'] == 0][column].var()\n",
    "    if(column != 'highCrime'):\n",
    "        predScore = abs((meanTrue - meanFalse))/(varFalse+varTrue)\n",
    "        dictPredFeature[column] = predScore\n",
    "MostPredFeat = sorted(dictPredFeature.items(), key=lambda x: x[1])[-11:-1]\n",
    "for i in MostPredFeat:\n",
    "    print(i)\n",
    "dfPredictiveFeature.head()"
   ]
  },
  {
   "cell_type": "markdown",
   "metadata": {},
   "source": [
    "#### b. Use LinearSVC to learn a linear Support Vector Machine model to predict highCrime.\n",
    "##### i. What is the 10-fold cross-validation accuracy, precision, and recall for this method?"
   ]
  },
  {
   "cell_type": "code",
   "execution_count": 656,
   "metadata": {
    "collapsed": false
   },
   "outputs": [
    {
     "name": "stdout",
     "output_type": "stream",
     "text": [
      "Accuracy is 0.804753768844\n",
      "Precision is 0.855179372789\n",
      "Recall is 0.8376\n"
     ]
    }
   ],
   "source": [
    "linearsvmclf = svm.SVC(kernel='linear', C =1.0)\n",
    "accuracy_svm = cross_val_score(linearsvmclf, X, y, cv=10, scoring='accuracy').mean()\n",
    "precision_svm = cross_val_score(linearsvmclf, X, y, cv=10, scoring='precision').mean()\n",
    "recall_svm = cross_val_score(linearsvmclf, X, y, cv=10, scoring='recall').mean()\n",
    "print ('Accuracy is', accuracy_svm)\n",
    "print ('Precision is', precision_svm)\n",
    "print ('Recall is', recall_svm)"
   ]
  },
  {
   "cell_type": "markdown",
   "metadata": {},
   "source": [
    "#### ii. What are the 10 most predictive features? This can be measured by the absolute feature weights in the model. Why do these make sense (or not)?"
   ]
  },
  {
   "cell_type": "code",
   "execution_count": 657,
   "metadata": {
    "collapsed": false
   },
   "outputs": [],
   "source": [
    "linearsvmclf.fit(X,y)\n",
    "#print(linearsvmclf.coef_.shape)\n",
    "#print(linearsvmclf.coef_)\n",
    "linearsvmclf_coef_array= {}\n",
    "linearsvmclf_coef_array[column]= linearsvmclf.coef_\n",
    "TopTenFeat = sorted(linearsvmclf_coef_array.items(), key=lambda x: x[1])[-11:-1]\n",
    "for f in TopTenFeat:\n",
    "    print(f)"
   ]
  },
  {
   "cell_type": "markdown",
   "metadata": {},
   "source": [
    "#### iii. How do these results compare with your results from decision trees, above?"
   ]
  },
  {
   "cell_type": "markdown",
   "metadata": {},
   "source": [
    "#TODO"
   ]
  },
  {
   "cell_type": "markdown",
   "metadata": {},
   "source": [
    "### 3. Regression\n",
    "#### a. Use LinearRegression to learn a linear model directly predicting the crime rate per capita (ViolentCrimesPerPop).\n",
    "##### i. Using 10-fold cross-validation, what is the estimated meansquared- error (MSE) of the model?"
   ]
  },
  {
   "cell_type": "code",
   "execution_count": 658,
   "metadata": {
    "collapsed": false,
    "scrolled": true
   },
   "outputs": [
    {
     "name": "stdout",
     "output_type": "stream",
     "text": [
      "0.0200939693044\n"
     ]
    }
   ],
   "source": [
    "Y= communities_crime_df['ViolentCrimesPerPop']\n",
    "linearRegression = LinearRegression()\n",
    "#df = df.drop('highCrime', 1)\n",
    "mean_sq_err= cross_val_score(linearRegression,X, Y,None,scoring='neg_mean_squared_error',cv=10)\n",
    "print(np.abs(mean_sq_err.mean()))"
   ]
  },
  {
   "cell_type": "markdown",
   "metadata": {},
   "source": [
    "##### ii. What is the MSE on the training set (train on all the data then test on it all)?"
   ]
  },
  {
   "cell_type": "code",
   "execution_count": 659,
   "metadata": {
    "collapsed": false
   },
   "outputs": [
    {
     "name": "stdout",
     "output_type": "stream",
     "text": [
      "Mean squared error: 0.21\n"
     ]
    }
   ],
   "source": [
    "linearRegression.fit(X,y)\n",
    "print(\"Mean squared error: %.2f\"\n",
    "      % np.mean((linearRegression.predict(X) - Y) ** 2))"
   ]
  },
  {
   "cell_type": "markdown",
   "metadata": {},
   "source": [
    "##### iii. What features are most predictive of a high crime rate? A low crime rate?"
   ]
  },
  {
   "cell_type": "code",
   "execution_count": 660,
   "metadata": {
    "collapsed": false
   },
   "outputs": [
    {
     "name": "stdout",
     "output_type": "stream",
     "text": [
      "Most Predictive Feature of a High Crime Rate is population\n",
      "Most Predictive Feature of a Low Crime Rate is numbUrban\n"
     ]
    }
   ],
   "source": [
    "list_coef = np.array(linearRegression.coef_)\n",
    "max_feature = np.where(list_coef == list_coef.max())\n",
    "print(\"Most Predictive Feature of a High Crime Rate is\", df.columns[np.argmax(list_coef)])\n",
    "print(\"Most Predictive Feature of a Low Crime Rate is\", df.columns[np.argmin(list_coef)])"
   ]
  },
  {
   "cell_type": "markdown",
   "metadata": {},
   "source": [
    "#### b.Now use Ridge regression to reduce the amount of overfitting, using RidgeCV to pick the best alpha from among (10, 1, 0.1, 0.01, and 0.001).\n",
    "##### i. What is the estimated MSE of the model under 10-fold CV?"
   ]
  },
  {
   "cell_type": "code",
   "execution_count": 661,
   "metadata": {
    "collapsed": false
   },
   "outputs": [
    {
     "name": "stdout",
     "output_type": "stream",
     "text": [
      "Mean squared error: 0.02\n"
     ]
    }
   ],
   "source": [
    "ridge_reg=linear_model.Ridge(alpha = 0.001)\n",
    "ridge_reg.fit(df,Y)\n",
    "print(\"Mean squared error: %.2f\"\n",
    "      % np.mean((ridge_reg.predict(df) - Y) ** 2))"
   ]
  },
  {
   "cell_type": "markdown",
   "metadata": {},
   "source": [
    "##### ii. What is the MSE on the training set (train on all the data then test on it all)?"
   ]
  },
  {
   "cell_type": "code",
   "execution_count": 662,
   "metadata": {
    "collapsed": false
   },
   "outputs": [],
   "source": [
    "train_data, test_data = validation_curve(\n",
    "    linear_model.Ridge (), X, Y, param_name=\"alpha\", param_range=np.logspace(-3, 1, 10),\n",
    "    cv=10, scoring=\"neg_mean_squared_error\", n_jobs=1)\n",
    "train_data_mean = np.mean(train_data, axis=1)\n",
    "train_data_std = np.std(train_data, axis=1)\n",
    "test_data_mean = np.mean(test_data, axis=1)\n",
    "test_data_std = np.std(test_data, axis=1)\n"
   ]
  },
  {
   "cell_type": "markdown",
   "metadata": {},
   "source": [
    "#### c. Now use polynomial features to do quadratic (second-order) polynomial regression.\n",
    "##### i.What is the estimated MSE of the model under 10-fold CV?"
   ]
  },
  {
   "cell_type": "code",
   "execution_count": 663,
   "metadata": {
    "collapsed": false
   },
   "outputs": [
    {
     "name": "stdout",
     "output_type": "stream",
     "text": [
      "Mean squared error: 0.30\n"
     ]
    }
   ],
   "source": [
    "poly_feature = PolynomialFeatures(degree  = 2,interaction_only = False)\n",
    "poly_df = poly_feature.fit_transform(X)\n",
    "ridge_reg.fit(poly_df,y)\n",
    "print(\"Mean squared error: %.2f\"\n",
    "      % np.mean((ridge_reg.predict(poly_df) - Y) ** 2))"
   ]
  },
  {
   "cell_type": "code",
   "execution_count": 664,
   "metadata": {
    "collapsed": false
   },
   "outputs": [
    {
     "name": "stdout",
     "output_type": "stream",
     "text": [
      "-0.129900108473\n"
     ]
    }
   ],
   "source": [
    "poly_df = pd.DataFrame(poly_df)\n",
    "array = [[1,2],[2,3]]\n",
    "poly = PolynomialFeatures(degree  = 2 )\n",
    "array = poly.fit_transform(array)\n",
    "poly_df.shape\n",
    "\n",
    "## caluclating MSE\n",
    "poly_mse= cross_val_score(linearRegression, poly_df, Y,None,scoring='neg_mean_squared_error',cv=10)\n",
    "print(poly_mse.mean())"
   ]
  },
  {
   "cell_type": "markdown",
   "metadata": {},
   "source": [
    "### 4. Dirty Data\n",
    "#### Repeat the decision tree learning question for the full (non-clean) data set and present the results.\n",
    "#### a. Are the CV results better or worse? What does this say about the effect of missing values?"
   ]
  },
  {
   "cell_type": "code",
   "execution_count": 665,
   "metadata": {
    "collapsed": false
   },
   "outputs": [
    {
     "data": {
      "text/html": [
       "<div>\n",
       "<table border=\"1\" class=\"dataframe\">\n",
       "  <thead>\n",
       "    <tr style=\"text-align: right;\">\n",
       "      <th></th>\n",
       "      <th>state</th>\n",
       "      <th>county</th>\n",
       "      <th>community</th>\n",
       "      <th>communityname</th>\n",
       "      <th>fold</th>\n",
       "      <th>population</th>\n",
       "      <th>householdsize</th>\n",
       "      <th>racepctblack</th>\n",
       "      <th>racePctWhite</th>\n",
       "      <th>racePctAsian</th>\n",
       "      <th>...</th>\n",
       "      <th>LandArea</th>\n",
       "      <th>PopDens</th>\n",
       "      <th>PctUsePubTrans</th>\n",
       "      <th>PolicCars</th>\n",
       "      <th>PolicOperBudg</th>\n",
       "      <th>LemasPctPolicOnPatr</th>\n",
       "      <th>LemasGangUnitDeploy</th>\n",
       "      <th>LemasPctOfficDrugUn</th>\n",
       "      <th>PolicBudgPerPop</th>\n",
       "      <th>ViolentCrimesPerPop</th>\n",
       "    </tr>\n",
       "  </thead>\n",
       "  <tbody>\n",
       "    <tr>\n",
       "      <th>0</th>\n",
       "      <td>8</td>\n",
       "      <td>?</td>\n",
       "      <td>?</td>\n",
       "      <td>Lakewoodcity</td>\n",
       "      <td>1</td>\n",
       "      <td>0.19</td>\n",
       "      <td>0.33</td>\n",
       "      <td>0.02</td>\n",
       "      <td>0.90</td>\n",
       "      <td>0.12</td>\n",
       "      <td>...</td>\n",
       "      <td>0.12</td>\n",
       "      <td>0.26</td>\n",
       "      <td>0.20</td>\n",
       "      <td>0.06</td>\n",
       "      <td>0.04</td>\n",
       "      <td>0.9</td>\n",
       "      <td>0.5</td>\n",
       "      <td>0.32</td>\n",
       "      <td>0.14</td>\n",
       "      <td>0.20</td>\n",
       "    </tr>\n",
       "    <tr>\n",
       "      <th>1</th>\n",
       "      <td>53</td>\n",
       "      <td>?</td>\n",
       "      <td>?</td>\n",
       "      <td>Tukwilacity</td>\n",
       "      <td>1</td>\n",
       "      <td>0.00</td>\n",
       "      <td>0.16</td>\n",
       "      <td>0.12</td>\n",
       "      <td>0.74</td>\n",
       "      <td>0.45</td>\n",
       "      <td>...</td>\n",
       "      <td>0.02</td>\n",
       "      <td>0.12</td>\n",
       "      <td>0.45</td>\n",
       "      <td>?</td>\n",
       "      <td>?</td>\n",
       "      <td>?</td>\n",
       "      <td>?</td>\n",
       "      <td>0.00</td>\n",
       "      <td>?</td>\n",
       "      <td>0.67</td>\n",
       "    </tr>\n",
       "    <tr>\n",
       "      <th>2</th>\n",
       "      <td>24</td>\n",
       "      <td>?</td>\n",
       "      <td>?</td>\n",
       "      <td>Aberdeentown</td>\n",
       "      <td>1</td>\n",
       "      <td>0.00</td>\n",
       "      <td>0.42</td>\n",
       "      <td>0.49</td>\n",
       "      <td>0.56</td>\n",
       "      <td>0.17</td>\n",
       "      <td>...</td>\n",
       "      <td>0.01</td>\n",
       "      <td>0.21</td>\n",
       "      <td>0.02</td>\n",
       "      <td>?</td>\n",
       "      <td>?</td>\n",
       "      <td>?</td>\n",
       "      <td>?</td>\n",
       "      <td>0.00</td>\n",
       "      <td>?</td>\n",
       "      <td>0.43</td>\n",
       "    </tr>\n",
       "    <tr>\n",
       "      <th>3</th>\n",
       "      <td>34</td>\n",
       "      <td>5</td>\n",
       "      <td>81440</td>\n",
       "      <td>Willingborotownship</td>\n",
       "      <td>1</td>\n",
       "      <td>0.04</td>\n",
       "      <td>0.77</td>\n",
       "      <td>1.00</td>\n",
       "      <td>0.08</td>\n",
       "      <td>0.12</td>\n",
       "      <td>...</td>\n",
       "      <td>0.02</td>\n",
       "      <td>0.39</td>\n",
       "      <td>0.28</td>\n",
       "      <td>?</td>\n",
       "      <td>?</td>\n",
       "      <td>?</td>\n",
       "      <td>?</td>\n",
       "      <td>0.00</td>\n",
       "      <td>?</td>\n",
       "      <td>0.12</td>\n",
       "    </tr>\n",
       "    <tr>\n",
       "      <th>4</th>\n",
       "      <td>42</td>\n",
       "      <td>95</td>\n",
       "      <td>6096</td>\n",
       "      <td>Bethlehemtownship</td>\n",
       "      <td>1</td>\n",
       "      <td>0.01</td>\n",
       "      <td>0.55</td>\n",
       "      <td>0.02</td>\n",
       "      <td>0.95</td>\n",
       "      <td>0.09</td>\n",
       "      <td>...</td>\n",
       "      <td>0.04</td>\n",
       "      <td>0.09</td>\n",
       "      <td>0.02</td>\n",
       "      <td>?</td>\n",
       "      <td>?</td>\n",
       "      <td>?</td>\n",
       "      <td>?</td>\n",
       "      <td>0.00</td>\n",
       "      <td>?</td>\n",
       "      <td>0.03</td>\n",
       "    </tr>\n",
       "  </tbody>\n",
       "</table>\n",
       "<p>5 rows × 128 columns</p>\n",
       "</div>"
      ],
      "text/plain": [
       "   state county community        communityname  fold  population  \\\n",
       "0      8      ?         ?         Lakewoodcity     1        0.19   \n",
       "1     53      ?         ?          Tukwilacity     1        0.00   \n",
       "2     24      ?         ?         Aberdeentown     1        0.00   \n",
       "3     34      5     81440  Willingborotownship     1        0.04   \n",
       "4     42     95      6096    Bethlehemtownship     1        0.01   \n",
       "\n",
       "   householdsize  racepctblack  racePctWhite  racePctAsian  \\\n",
       "0           0.33          0.02          0.90          0.12   \n",
       "1           0.16          0.12          0.74          0.45   \n",
       "2           0.42          0.49          0.56          0.17   \n",
       "3           0.77          1.00          0.08          0.12   \n",
       "4           0.55          0.02          0.95          0.09   \n",
       "\n",
       "          ...           LandArea  PopDens  PctUsePubTrans  PolicCars  \\\n",
       "0         ...               0.12     0.26            0.20       0.06   \n",
       "1         ...               0.02     0.12            0.45          ?   \n",
       "2         ...               0.01     0.21            0.02          ?   \n",
       "3         ...               0.02     0.39            0.28          ?   \n",
       "4         ...               0.04     0.09            0.02          ?   \n",
       "\n",
       "   PolicOperBudg  LemasPctPolicOnPatr  LemasGangUnitDeploy  \\\n",
       "0           0.04                  0.9                  0.5   \n",
       "1              ?                    ?                    ?   \n",
       "2              ?                    ?                    ?   \n",
       "3              ?                    ?                    ?   \n",
       "4              ?                    ?                    ?   \n",
       "\n",
       "   LemasPctOfficDrugUn  PolicBudgPerPop  ViolentCrimesPerPop  \n",
       "0                 0.32             0.14                 0.20  \n",
       "1                 0.00                ?                 0.67  \n",
       "2                 0.00                ?                 0.43  \n",
       "3                 0.00                ?                 0.12  \n",
       "4                 0.00                ?                 0.03  \n",
       "\n",
       "[5 rows x 128 columns]"
      ]
     },
     "execution_count": 665,
     "metadata": {},
     "output_type": "execute_result"
    }
   ],
   "source": [
    "# import dirty data\n",
    "df_d = pd.read_csv('communities-crime-full.csv')\n",
    "df_d.head()"
   ]
  },
  {
   "cell_type": "code",
   "execution_count": 666,
   "metadata": {
    "collapsed": false
   },
   "outputs": [
    {
     "name": "stdout",
     "output_type": "stream",
     "text": [
      "Index(['population', 'householdsize', 'racepctblack', 'racePctWhite',\n",
      "       'racePctAsian', 'racePctHisp', 'agePct12t21', 'agePct12t29',\n",
      "       'agePct16t24', 'agePct65up',\n",
      "       ...\n",
      "       'LandArea', 'PopDens', 'PctUsePubTrans', 'PolicCars', 'PolicOperBudg',\n",
      "       'LemasPctPolicOnPatr', 'LemasGangUnitDeploy', 'LemasPctOfficDrugUn',\n",
      "       'PolicBudgPerPop', 'ViolentCrimesPerPop'],\n",
      "      dtype='object', length=123)\n",
      "RangeIndex(start=0, stop=123, step=1)\n"
     ]
    }
   ],
   "source": [
    "# Making data clean \n",
    "#communities_crime_df.drop('ViolentCrimesPerPop', axis=1, inplace=True)\n",
    "df_d_clean = df_d.replace('?', np.nan)\n",
    "df_d_clean = df_d_clean.drop('community', axis=1).drop('state', axis=1).drop('communityname', axis=1).drop('fold', axis=1).drop('county', axis=1)\n",
    "cols_numeric = df_d_clean.columns\n",
    "print(cols_numeric)\n",
    "imp = Imputer(missing_values='NaN', strategy='mean', axis=0)\n",
    "Y = imp.fit_transform(df_d_clean)\n",
    "#imputer = Imputer(missing_values = np.nan, strategy=\"mean\", axis=0)\n",
    "#df_full_clean = imputer.fit_transform(df_d_clean)\n",
    "df_d_clean = pd.DataFrame(Y)\n",
    "print(df_d_clean.columns)\n",
    "df_d_clean.columns = cols_numeric\n",
    "df_d_clean['highCrime'] = df_d_clean.apply(setHighCrime, axis=1)\n",
    "\n",
    "#df_full_clean.groupby('highCrime').size() * 100 / len(df_full_clean)"
   ]
  },
  {
   "cell_type": "code",
   "execution_count": 667,
   "metadata": {
    "collapsed": false
   },
   "outputs": [
    {
     "name": "stdout",
     "output_type": "stream",
     "text": [
      "Training Accuracy = 0.8360080240722166 Precision = 0.9003466204506065 Recall = 0.8305355715427658\n"
     ]
    }
   ],
   "source": [
    "y = df_d_clean[\"highCrime\"]\n",
    "X = df_d_clean.drop('highCrime', axis=1).drop('ViolentCrimesPerPop', axis=1)\n",
    "#X\n",
    "dt = DecisionTreeClassifier(max_depth= 3)\n",
    "\n",
    "dt.fit(X,y)\n",
    "predicted = dt.predict(X)\n",
    "\n",
    "recall_score = metrics.recall_score(df_d_clean['highCrime'], predicted)\n",
    "precision_score = metrics.precision_score(df_d_clean['highCrime'], predicted)\n",
    "accuracy_score = metrics.accuracy_score(df_d_clean['highCrime'], predicted)\n",
    "\n",
    "print(\"Training Accuracy = {} Precision = {} Recall = {}\".format(accuracy_score,precision_score,recall_score))"
   ]
  },
  {
   "cell_type": "markdown",
   "metadata": {},
   "source": [
    "#### GradientBoostingClassifier"
   ]
  },
  {
   "cell_type": "code",
   "execution_count": 670,
   "metadata": {
    "collapsed": false
   },
   "outputs": [
    {
     "name": "stdout",
     "output_type": "stream",
     "text": [
      "Training Accuracy = 0.9257400903161064 Precision = 0.9408 Recall = 0.9408\n"
     ]
    }
   ],
   "source": [
    "df = communities_crime_df.drop('ViolentCrimesPerPop', axis=1).drop('state', axis=1).drop('communityname', axis=1).drop('fold', axis=1).drop('highCrime', axis=1)\n",
    "y = communities_crime_df[\"highCrime\"]\n",
    "X = df\n",
    "clf = GradientBoostingClassifier()\n",
    "clf.fit(X, y)\n",
    "predicted = clf.predict(X)\n",
    "\n",
    "recall_score = metrics.recall_score(communities_crime_df['highCrime'], predicted)\n",
    "precision_score = metrics.precision_score(communities_crime_df['highCrime'], predicted)\n",
    "accuracy_score = metrics.accuracy_score(communities_crime_df['highCrime'], predicted)\n",
    "\n",
    "print(\"Training Accuracy = {} Precision = {} Recall = {}\".format(accuracy_score,precision_score,recall_score))\n",
    "\n"
   ]
  }
 ],
 "metadata": {
  "anaconda-cloud": {},
  "celltoolbar": "Raw Cell Format",
  "kernelspec": {
   "display_name": "Python 3",
   "language": "python",
   "name": "python3"
  },
  "language_info": {
   "codemirror_mode": {
    "name": "ipython",
    "version": 3
   },
   "file_extension": ".py",
   "mimetype": "text/x-python",
   "name": "python",
   "nbconvert_exporter": "python",
   "pygments_lexer": "ipython3",
   "version": "3.6.0"
  }
 },
 "nbformat": 4,
 "nbformat_minor": 1
}
