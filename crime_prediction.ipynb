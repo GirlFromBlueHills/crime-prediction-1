{
 "cells": [
  {
   "cell_type": "markdown",
   "metadata": {},
   "source": [
    "## CS 584 Machine Learning : Homework Project: Crime Prediction\n",
    "---\n",
    "### Team Members:\n",
    " * Jadhav Aditya CWID\n",
    " * Sumedha Gupta CWID\n"
   ]
  },
  {
   "cell_type": "code",
   "execution_count": 589,
   "metadata": {
    "collapsed": false
   },
   "outputs": [],
   "source": [
    "import pandas as pd # panda's nickname is pd\n",
    "import numpy as np\n",
    "import sklearn.metrics as metrics\n",
    "from sklearn.tree import DecisionTreeClassifier, export_graphviz\n",
    "from sklearn import svm\n",
    "from sklearn.model_selection import cross_val_score\n",
    "from sklearn.linear_model import LogisticRegression\n",
    "from  sklearn.linear_model import LinearRegression\n",
    "from sklearn.naive_bayes import GaussianNB\n",
    "from sklearn.model_selection import validation_curve\n",
    "from sklearn.preprocessing import binarize\n",
    "import matplotlib.pyplot as plot\n",
    "from sklearn import linear_model\n",
    "from IPython.display import Image \n",
    "from sklearn.preprocessing import Imputer\n",
    "from sklearn.preprocessing import PolynomialFeatures\n",
    "from sklearn import tree\n",
    "import sklearn.preprocessing as prep\n",
    "import pydotplus \n",
    "import math\n",
    "from sklearn.linear_model import RidgeCV\n",
    "import sklearn.linear_model as linear_model\n",
    "from sklearn.model_selection import GridSearchCV\n",
    "\n",
    "from sklearn.ensemble import GradientBoostingClassifier\n"
   ]
  },
  {
   "cell_type": "code",
   "execution_count": null,
   "metadata": {
    "collapsed": false
   },
   "outputs": [],
   "source": []
  },
  {
   "cell_type": "markdown",
   "metadata": {},
   "source": [
    "#### Load the communities-crime-clean.csv file into a dataframe object\n"
   ]
  },
  {
   "cell_type": "code",
   "execution_count": 590,
   "metadata": {
    "collapsed": false
   },
   "outputs": [
    {
     "data": {
      "text/html": [
       "<div>\n",
       "<table border=\"1\" class=\"dataframe\">\n",
       "  <thead>\n",
       "    <tr style=\"text-align: right;\">\n",
       "      <th></th>\n",
       "      <th>state</th>\n",
       "      <th>communityname</th>\n",
       "      <th>fold</th>\n",
       "      <th>population</th>\n",
       "      <th>householdsize</th>\n",
       "      <th>racepctblack</th>\n",
       "      <th>racePctWhite</th>\n",
       "      <th>racePctAsian</th>\n",
       "      <th>racePctHisp</th>\n",
       "      <th>agePct12t21</th>\n",
       "      <th>...</th>\n",
       "      <th>PctForeignBorn</th>\n",
       "      <th>PctBornSameState</th>\n",
       "      <th>PctSameHouse85</th>\n",
       "      <th>PctSameCity85</th>\n",
       "      <th>PctSameState85</th>\n",
       "      <th>LandArea</th>\n",
       "      <th>PopDens</th>\n",
       "      <th>PctUsePubTrans</th>\n",
       "      <th>LemasPctOfficDrugUn</th>\n",
       "      <th>ViolentCrimesPerPop</th>\n",
       "    </tr>\n",
       "  </thead>\n",
       "  <tbody>\n",
       "    <tr>\n",
       "      <th>0</th>\n",
       "      <td>1</td>\n",
       "      <td>Alabastercity</td>\n",
       "      <td>7</td>\n",
       "      <td>0.01</td>\n",
       "      <td>0.61</td>\n",
       "      <td>0.21</td>\n",
       "      <td>0.83</td>\n",
       "      <td>0.02</td>\n",
       "      <td>0.01</td>\n",
       "      <td>0.41</td>\n",
       "      <td>...</td>\n",
       "      <td>0.03</td>\n",
       "      <td>0.70</td>\n",
       "      <td>0.40</td>\n",
       "      <td>0.34</td>\n",
       "      <td>0.57</td>\n",
       "      <td>0.05</td>\n",
       "      <td>0.06</td>\n",
       "      <td>0.01</td>\n",
       "      <td>0.0</td>\n",
       "      <td>0.06</td>\n",
       "    </tr>\n",
       "    <tr>\n",
       "      <th>1</th>\n",
       "      <td>1</td>\n",
       "      <td>AlexanderCitycity</td>\n",
       "      <td>10</td>\n",
       "      <td>0.01</td>\n",
       "      <td>0.41</td>\n",
       "      <td>0.55</td>\n",
       "      <td>0.57</td>\n",
       "      <td>0.01</td>\n",
       "      <td>0.00</td>\n",
       "      <td>0.47</td>\n",
       "      <td>...</td>\n",
       "      <td>0.00</td>\n",
       "      <td>0.93</td>\n",
       "      <td>0.66</td>\n",
       "      <td>0.82</td>\n",
       "      <td>0.84</td>\n",
       "      <td>0.11</td>\n",
       "      <td>0.03</td>\n",
       "      <td>0.01</td>\n",
       "      <td>0.0</td>\n",
       "      <td>0.14</td>\n",
       "    </tr>\n",
       "    <tr>\n",
       "      <th>2</th>\n",
       "      <td>1</td>\n",
       "      <td>Annistoncity</td>\n",
       "      <td>3</td>\n",
       "      <td>0.03</td>\n",
       "      <td>0.34</td>\n",
       "      <td>0.86</td>\n",
       "      <td>0.30</td>\n",
       "      <td>0.04</td>\n",
       "      <td>0.01</td>\n",
       "      <td>0.41</td>\n",
       "      <td>...</td>\n",
       "      <td>0.04</td>\n",
       "      <td>0.77</td>\n",
       "      <td>0.59</td>\n",
       "      <td>0.70</td>\n",
       "      <td>0.64</td>\n",
       "      <td>0.06</td>\n",
       "      <td>0.11</td>\n",
       "      <td>0.04</td>\n",
       "      <td>0.0</td>\n",
       "      <td>1.00</td>\n",
       "    </tr>\n",
       "    <tr>\n",
       "      <th>3</th>\n",
       "      <td>1</td>\n",
       "      <td>Athenscity</td>\n",
       "      <td>8</td>\n",
       "      <td>0.01</td>\n",
       "      <td>0.38</td>\n",
       "      <td>0.35</td>\n",
       "      <td>0.71</td>\n",
       "      <td>0.04</td>\n",
       "      <td>0.01</td>\n",
       "      <td>0.39</td>\n",
       "      <td>...</td>\n",
       "      <td>0.03</td>\n",
       "      <td>0.78</td>\n",
       "      <td>0.56</td>\n",
       "      <td>0.67</td>\n",
       "      <td>0.71</td>\n",
       "      <td>0.09</td>\n",
       "      <td>0.05</td>\n",
       "      <td>0.00</td>\n",
       "      <td>0.0</td>\n",
       "      <td>0.23</td>\n",
       "    </tr>\n",
       "    <tr>\n",
       "      <th>4</th>\n",
       "      <td>1</td>\n",
       "      <td>Auburncity</td>\n",
       "      <td>1</td>\n",
       "      <td>0.04</td>\n",
       "      <td>0.37</td>\n",
       "      <td>0.32</td>\n",
       "      <td>0.70</td>\n",
       "      <td>0.21</td>\n",
       "      <td>0.02</td>\n",
       "      <td>1.00</td>\n",
       "      <td>...</td>\n",
       "      <td>0.12</td>\n",
       "      <td>0.49</td>\n",
       "      <td>0.12</td>\n",
       "      <td>0.00</td>\n",
       "      <td>0.15</td>\n",
       "      <td>0.09</td>\n",
       "      <td>0.09</td>\n",
       "      <td>0.01</td>\n",
       "      <td>0.0</td>\n",
       "      <td>0.15</td>\n",
       "    </tr>\n",
       "  </tbody>\n",
       "</table>\n",
       "<p>5 rows × 104 columns</p>\n",
       "</div>"
      ],
      "text/plain": [
       "   state      communityname  fold  population  householdsize  racepctblack  \\\n",
       "0      1      Alabastercity     7        0.01           0.61          0.21   \n",
       "1      1  AlexanderCitycity    10        0.01           0.41          0.55   \n",
       "2      1       Annistoncity     3        0.03           0.34          0.86   \n",
       "3      1         Athenscity     8        0.01           0.38          0.35   \n",
       "4      1         Auburncity     1        0.04           0.37          0.32   \n",
       "\n",
       "   racePctWhite  racePctAsian  racePctHisp  agePct12t21         ...           \\\n",
       "0          0.83          0.02         0.01         0.41         ...            \n",
       "1          0.57          0.01         0.00         0.47         ...            \n",
       "2          0.30          0.04         0.01         0.41         ...            \n",
       "3          0.71          0.04         0.01         0.39         ...            \n",
       "4          0.70          0.21         0.02         1.00         ...            \n",
       "\n",
       "   PctForeignBorn  PctBornSameState  PctSameHouse85  PctSameCity85  \\\n",
       "0            0.03              0.70            0.40           0.34   \n",
       "1            0.00              0.93            0.66           0.82   \n",
       "2            0.04              0.77            0.59           0.70   \n",
       "3            0.03              0.78            0.56           0.67   \n",
       "4            0.12              0.49            0.12           0.00   \n",
       "\n",
       "   PctSameState85  LandArea  PopDens  PctUsePubTrans  LemasPctOfficDrugUn  \\\n",
       "0            0.57      0.05     0.06            0.01                  0.0   \n",
       "1            0.84      0.11     0.03            0.01                  0.0   \n",
       "2            0.64      0.06     0.11            0.04                  0.0   \n",
       "3            0.71      0.09     0.05            0.00                  0.0   \n",
       "4            0.15      0.09     0.09            0.01                  0.0   \n",
       "\n",
       "   ViolentCrimesPerPop  \n",
       "0                 0.06  \n",
       "1                 0.14  \n",
       "2                 1.00  \n",
       "3                 0.23  \n",
       "4                 0.15  \n",
       "\n",
       "[5 rows x 104 columns]"
      ]
     },
     "execution_count": 590,
     "metadata": {},
     "output_type": "execute_result"
    }
   ],
   "source": [
    "communities_crime_df = pd.read_csv('communities-crime-clean.csv')\n",
    "\n",
    "# Sanity test we have good data\n",
    "communities_crime_df.head()\n"
   ]
  },
  {
   "cell_type": "markdown",
   "metadata": {},
   "source": [
    "### Q1. Decision Trees\n",
    "---\n",
    "#### a) Create a new field “highCrime” which is true if the crime rate per capita (ViolentCrimesPerPop) is greater than 0.1, and false otherwise. What are the percentage of positive and negative instances in the dataset?"
   ]
  },
  {
   "cell_type": "code",
   "execution_count": 591,
   "metadata": {
    "collapsed": false
   },
   "outputs": [
    {
     "name": "stdout",
     "output_type": "stream",
     "text": [
      "highCrime\n",
      "False    37.280482\n",
      "True     62.719518\n",
      "dtype: float64\n",
      "------------------\n",
      "Percentage Positive Instance = 62.719518314099346\n",
      "Percentage Negative Instance = 37.280481685900654 \n"
     ]
    }
   ],
   "source": [
    "def setHighCrime(df):\n",
    "    '''Function to set value of highCrime depending on ViolentCrimesPerPop'''\n",
    "    if df['ViolentCrimesPerPop'] > 0.1:\n",
    "        return True\n",
    "    else:\n",
    "        return False\n",
    "    \n",
    "# Adding a new field \"highCrime\"\n",
    "communities_crime_df['highCrime'] = communities_crime_df.apply(setHighCrime, axis=1)\n",
    "\n",
    "# Calculating the percentage of positive and negative instances in the dataset\n",
    "percentage_intances = communities_crime_df.groupby('highCrime').size() * 100 / len(communities_crime_df)\n",
    "print(percentage_intances)\n",
    "print(\"------------------\")\n",
    "print(\"Percentage Positive Instance = {}\\nPercentage Negative Instance = {} \".format(percentage_intances[1],percentage_intances[0]))\n"
   ]
  },
  {
   "cell_type": "markdown",
   "metadata": {},
   "source": [
    "#### b) Use DecisionTreeClassifier to learn a decision tree to predict highCrime on the entire dataset  \n",
    "##### i. What are the training accuracy, precision, and recall for this tree?"
   ]
  },
  {
   "cell_type": "code",
   "execution_count": 592,
   "metadata": {
    "collapsed": false
   },
   "outputs": [
    {
     "name": "stdout",
     "output_type": "stream",
     "text": [
      "Training Accuracy = 1.0 Precision = 1.0 Recall = 1.0\n"
     ]
    }
   ],
   "source": [
    "#Dropping non-predictive fields as well as ViolentCrimesPerPop field \n",
    "X = communities_crime_df.drop('ViolentCrimesPerPop', axis=1).drop('state', axis=1).drop('communityname', axis=1).drop('fold', axis=1).drop('highCrime', axis=1)\n",
    "features = list(X.columns)\n",
    "y = communities_crime_df[\"highCrime\"]\n",
    "\n",
    "dt_clf = DecisionTreeClassifier()\n",
    "\n",
    "dt_clf.fit(X,y)\n",
    "\n",
    "predicted = dt_clf.predict(X[features])\n",
    "#communities_crime_df['Predicted_HighCrime'] = pd.Series(p, index=communities_crime_df.index)\n",
    "#dot_data = tree.export_graphviz(dt, out_file=None)\n",
    "#graph = pydotplus.graph_from_dot_data(dot_data)  \n",
    "#Image(graph.create_png()) \n",
    "#Thus in binary classification, the count of true negatives is C_{0,0}, false negatives is C_{1,0}, true positives is C_{1,1} and false positives is C_{0,1}.\n",
    "#metrics.confusion_matrix(communities_crime_df['highCrime'], predicted)\n",
    "recall_score = metrics.recall_score(communities_crime_df['highCrime'], predicted)\n",
    "precision_score = metrics.precision_score(communities_crime_df['highCrime'], predicted)\n",
    "accuracy_score = metrics.accuracy_score(communities_crime_df['highCrime'], predicted)\n",
    "\n",
    "print(\"Training Accuracy = {} Precision = {} Recall = {}\".format(accuracy_score,precision_score,recall_score))"
   ]
  },
  {
   "cell_type": "code",
   "execution_count": null,
   "metadata": {
    "collapsed": false
   },
   "outputs": [],
   "source": []
  },
  {
   "cell_type": "markdown",
   "metadata": {
    "collapsed": false
   },
   "source": [
    "##### ii. What are the main features used for classification? Can you explain why they make sense (or not)?"
   ]
  },
  {
   "cell_type": "code",
   "execution_count": 593,
   "metadata": {
    "collapsed": false
   },
   "outputs": [
    {
     "name": "stdout",
     "output_type": "stream",
     "text": [
      "Feature ranking:\n",
      "[44  3  5 34 29]\n",
      "Index(['PctKids2Par', 'racePctWhite', 'racePctHisp', 'PctEmplManu',\n",
      "       'PctLess9thGrade'],\n",
      "      dtype='object')\n"
     ]
    }
   ],
   "source": [
    "# We can check the main features used for classification by checking the feature importnaces, the higher the value,\n",
    "# more important the feature would be.\n",
    "# We can sort the impostamce scores in descending order and take the top most.\n",
    "importances=dt_clf.feature_importances_\n",
    "indices = np.argsort(importances)[::-1]\n",
    "# Print the feature ranking\n",
    "print(\"Feature ranking:\")\n",
    "print(indices[:5])\n",
    "print(X.columns[indices[:5]])\n",
    "\n",
    "#print(sorted(zip(X.columns, dt_clf.feature_importances_), key=lambda x: x[1], reverse=True)[:1])\n",
    "#print(importantFeatures[:1])"
   ]
  },
  {
   "cell_type": "markdown",
   "metadata": {},
   "source": [
    "#### c. Now apply cross-validation (cross_val_score) to do 10-fold cross-validation to estimate the out-of-training accuracy of decision tree learning for this task.  \n",
    "##### i. What are the 10-fold cross-validation accuracy, precision, and recall?"
   ]
  },
  {
   "cell_type": "code",
   "execution_count": 594,
   "metadata": {
    "collapsed": false
   },
   "outputs": [
    {
     "name": "stdout",
     "output_type": "stream",
     "text": [
      "Results after applying 10-fold cross-validation\n",
      "Accuracy: 0.72 (+/- 0.05)\n",
      "Recall 0.7816\n",
      "Precision 0.786547831203\n"
     ]
    }
   ],
   "source": [
    "scores = cross_val_score(dt_clf, X, y, cv=10)\n",
    "\n",
    "precision= cross_val_score(dt_clf, X, y, cv=10, scoring='precision')\n",
    "recal = cross_val_score(dt_clf, X, y, cv=10, scoring='recall')\n",
    "print(\"Results after applying 10-fold cross-validation\")\n",
    "print(\"Accuracy: %0.2f (+/- %0.2f)\" % (scores.mean(), scores.std()))\n",
    "print(\"Recall\", np.mean(recal))\n",
    "print(\"Precision\", np.mean(precision))\n"
   ]
  },
  {
   "cell_type": "markdown",
   "metadata": {},
   "source": [
    "##### ii. Why are they different from the results in the previous test?\n",
    "TODO  \n",
    "we usually use the entire dataset for building the final model, but we use cross-validation (CV) to get a better estimate of the generalization error on new unseen data."
   ]
  },
  {
   "cell_type": "markdown",
   "metadata": {},
   "source": [
    "### 2. Linear Classification\n",
    "---\n",
    "#### a. Use GaussianNB to learn a Naive Bayes classifier to predict highCrime.  \n",
    "##### i. What is the 10-fold cross-validation accuracy, precision, and recall for this method?"
   ]
  },
  {
   "cell_type": "code",
   "execution_count": 595,
   "metadata": {
    "collapsed": false
   },
   "outputs": [
    {
     "name": "stdout",
     "output_type": "stream",
     "text": [
      "Results after applying 10-fold cross-validation\n",
      "Accuracy: 0.76 (+/- 0.05)\n",
      "Recall 0.692\n",
      "Precision 0.911799814828\n"
     ]
    }
   ],
   "source": [
    "gnb_clf = GaussianNB()\n",
    "\n",
    "gnb_clf.fit(X, y)\n",
    "predicted_highCrime = gnb_clf.predict(X[features])\n",
    "#communities_crime_df['abc'] = pd.Series(p, index=communities_crime_df.index)\n",
    "#communities_crime_df\n",
    "#communities_crime_df.head()\n",
    "#for i in communities_crime_df['abc']:\n",
    "#for index, row in communities_crime_df.iterrows():    \n",
    "#    print(type(row['abc']))\n",
    "#confusion_matrix(communities_crime_df['highCrime_Boolean'], communities_crime_df['abc'])\n",
    "#recall_score(communities_crime_df['highCrime'], communities_crime_df['abc'])\n",
    "#recall_score(a['highCrime_Boolean'], a['abc'])\n",
    "#communities_crime_df.head()\n",
    "#accuracy_score1 = metrics.recall_score(communities_crime_df['highCrime'], predicted)\n",
    "scores = cross_val_score(gnb_clf, X, y, cv=10)\n",
    "precision= cross_val_score(gnb_clf, X, y, cv=10, scoring='precision')\n",
    "recal = cross_val_score(gnb_clf, X, y, cv=10, scoring='recall')\n",
    "print(\"Results after applying 10-fold cross-validation\")\n",
    "print(\"Accuracy: %0.2f (+/- %0.2f)\" % (scores.mean(), scores.std()))\n",
    "print(\"Recall\", np.mean(recal))\n",
    "print(\"Precision\", np.mean(precision))\n",
    "\n"
   ]
  },
  {
   "cell_type": "markdown",
   "metadata": {},
   "source": [
    "What are the 10 most predictive features? This can be\n",
    "measured by the normalized absolute difference of means for\n",
    "the feature between the two classes:\n",
    "|𝜇𝑇 − 𝜇𝐹|/𝜎𝑇 + 𝜎𝐹\n",
    "The larger this different, the more predictive the feature. Why\n",
    "do these make sense (or not)?"
   ]
  },
  {
   "cell_type": "code",
   "execution_count": 596,
   "metadata": {
    "collapsed": false
   },
   "outputs": [
    {
     "name": "stdout",
     "output_type": "stream",
     "text": [
      "('MalePctDivorce', 0.6165342437579264)\n",
      "('PctTeen2Par', 0.6426208020335665)\n",
      "('pctWInvInc', 0.6607203219208594)\n",
      "('PctYoungKids2Par', 0.6646705535981033)\n",
      "('TotalPctDiv', 0.6742823162675443)\n",
      "('FemalePctDiv', 0.6936040623575482)\n",
      "('PctIlleg', 0.7089291060645266)\n",
      "('racePctWhite', 0.7348840522379364)\n",
      "('PctFam2Par', 0.74516152011997)\n",
      "('PctKids2Par', 0.8093364216318364)\n"
     ]
    }
   ],
   "source": [
    "df_predictiveFeature = communities_crime_df.drop('state', axis=1).drop('communityname', axis=1).drop('fold', axis=1)\n",
    "\n",
    "dictPredFeature = {}\n",
    "# TODO collecting true and false dataset\n",
    "true_df = X[df_predictiveFeature['highCrime'] == 1]\n",
    "false_df = X[df_predictiveFeature['highCrime'] == 0]\n",
    "for column in X:\n",
    "    mean_true = true_df[column].mean()\n",
    "    mean_false = false_df[column].mean()\n",
    "    var_true = true_df[column].var()\n",
    "    var_false = false_df[column].var()\n",
    "    if(column != 'highCrime'):\n",
    "        predScore = abs((mean_true - mean_false))/(math.sqrt(var_true)+math.sqrt(var_false))\n",
    "        dictPredFeature[column] = predScore\n",
    "MostPredFeat = sorted(dictPredFeature.items(), key=lambda x: x[1])[-10:]\n",
    "for i in MostPredFeat:\n",
    "    print(i)\n"
   ]
  },
  {
   "cell_type": "markdown",
   "metadata": {},
   "source": [
    "##### TODO iii. How do these results compare with your results from decision trees, above?"
   ]
  },
  {
   "cell_type": "markdown",
   "metadata": {},
   "source": [
    "#### b. Use LinearSVC to learn a linear Support Vector Machine model to predict highCrime.\n",
    "##### i. What is the 10-fold cross-validation accuracy, precision, and recall for this method?"
   ]
  },
  {
   "cell_type": "code",
   "execution_count": 597,
   "metadata": {
    "collapsed": false
   },
   "outputs": [
    {
     "name": "stdout",
     "output_type": "stream",
     "text": [
      "Accuracy is 0.804753768844\n",
      "Precision is 0.855179372789\n",
      "Recall is 0.8376\n"
     ]
    }
   ],
   "source": [
    "linearsvmclf = svm.SVC(kernel='linear', C =1.0)\n",
    "accuracy_svm = cross_val_score(linearsvmclf, X, y, cv=10, scoring='accuracy').mean()\n",
    "precision_svm = cross_val_score(linearsvmclf, X, y, cv=10, scoring='precision').mean()\n",
    "recall_svm = cross_val_score(linearsvmclf, X, y, cv=10, scoring='recall').mean()\n",
    "print ('Accuracy is', accuracy_svm)\n",
    "print ('Precision is', precision_svm)\n",
    "print ('Recall is', recall_svm)"
   ]
  },
  {
   "cell_type": "markdown",
   "metadata": {},
   "source": [
    "#### ii. What are the 10 most predictive features? This can be measured by the absolute feature weights in the model. Why do these make sense (or not)?"
   ]
  },
  {
   "cell_type": "code",
   "execution_count": 598,
   "metadata": {
    "collapsed": false
   },
   "outputs": [
    {
     "data": {
      "text/plain": [
       "[('agePct12t21', 0.98442987941004556),\n",
       " ('RentHighQ', 0.99163825361111957),\n",
       " ('PersPerOccupHous', 1.0275543973528991),\n",
       " ('MalePctDivorce', 1.073578841827074),\n",
       " ('population', 1.1086454264275147),\n",
       " ('PctFam2Par', 1.5426528869036265),\n",
       " ('racepctblack', 1.7203177655788284),\n",
       " ('PctKids2Par', 2.0576723456134776),\n",
       " ('racePctWhite', 2.2351581784693813),\n",
       " ('pctWInvInc', 2.3861552101921903)]"
      ]
     },
     "execution_count": 598,
     "metadata": {},
     "output_type": "execute_result"
    }
   ],
   "source": [
    "linearsvmclf.fit(X,y)\n",
    "\n",
    "linearsvmclf_coef_array = {}\n",
    "count = 0\n",
    "for i in X.columns:\n",
    "    linearsvmclf_coef_array[i] = abs(linearsvmclf.coef_[0][count])\n",
    "    count = count+ 1\n",
    "\n",
    "most_predictive_features = sorted(linearsvmclf_coef_array.items(), key=lambda x: x[1])[-10:]\n",
    "most_predictive_features\n"
   ]
  },
  {
   "cell_type": "markdown",
   "metadata": {},
   "source": [
    "#### iii. How do these results compare with your results from decision trees, above?"
   ]
  },
  {
   "cell_type": "markdown",
   "metadata": {},
   "source": [
    "#TODO"
   ]
  },
  {
   "cell_type": "markdown",
   "metadata": {},
   "source": [
    "### 3. Regression\n",
    "#### a. Use LinearRegression to learn a linear model directly predicting the crime rate per capita (ViolentCrimesPerPop).\n",
    "##### i. Using 10-fold cross-validation, what is the estimated meansquared- error (MSE) of the model?"
   ]
  },
  {
   "cell_type": "code",
   "execution_count": 599,
   "metadata": {
    "collapsed": false,
    "scrolled": true
   },
   "outputs": [
    {
     "name": "stdout",
     "output_type": "stream",
     "text": [
      "Estimated meansquared- error (MSE) of the model is 0.0200939693044\n"
     ]
    }
   ],
   "source": [
    "Y = communities_crime_df['ViolentCrimesPerPop']\n",
    "linear_regression = LinearRegression()\n",
    "#df = df.drop('highCrime', 1)\n",
    "mean_sq_err= cross_val_score(linear_regression,X, Y,None,scoring='neg_mean_squared_error',cv=10)\n",
    "print(\"Estimated meansquared- error (MSE) of the model is\",np.abs(mean_sq_err.mean()))"
   ]
  },
  {
   "cell_type": "markdown",
   "metadata": {},
   "source": [
    "##### ii. What is the MSE on the training set (train on all the data then test on it all)?"
   ]
  },
  {
   "cell_type": "code",
   "execution_count": 600,
   "metadata": {
    "collapsed": false
   },
   "outputs": [
    {
     "name": "stdout",
     "output_type": "stream",
     "text": [
      "MSE on the training set is 0.21080313028166464\n"
     ]
    }
   ],
   "source": [
    "linear_regression.fit(X,y)\n",
    "print(\"MSE on the training set is {}\".format(np.mean((linear_regression.predict(X) - Y) ** 2)))"
   ]
  },
  {
   "cell_type": "markdown",
   "metadata": {},
   "source": [
    "##### iii. What features are most predictive of a high crime rate? A low crime rate?"
   ]
  },
  {
   "cell_type": "code",
   "execution_count": 601,
   "metadata": {
    "collapsed": false
   },
   "outputs": [
    {
     "name": "stdout",
     "output_type": "stream",
     "text": [
      "Most Predictive Feature of a High Crime Rate is population\n",
      "Most Predictive Feature of a Low Crime Rate is numbUrban\n"
     ]
    }
   ],
   "source": [
    "# Taking the coefficients in an array\n",
    "list_coef = np.array(linearRegression.coef_)\n",
    "\n",
    "# We can check the most predictive features by checking the coefficients, the larger the coeff , \n",
    "# more predictive the feature.\n",
    "print(\"Most Predictive Feature of a High Crime Rate is\", X.columns[np.argmax(list_coef)])\n",
    "print(\"Most Predictive Feature of a Low Crime Rate is\", X.columns[np.argmin(list_coef)])"
   ]
  },
  {
   "cell_type": "markdown",
   "metadata": {},
   "source": [
    "#### b.Now use Ridge regression to reduce the amount of overfitting, using RidgeCV to pick the best alpha from among (10, 1, 0.1, 0.01, and 0.001).\n"
   ]
  },
  {
   "cell_type": "code",
   "execution_count": 602,
   "metadata": {
    "collapsed": false
   },
   "outputs": [
    {
     "name": "stdout",
     "output_type": "stream",
     "text": [
      "Best alpha 1.0\n"
     ]
    }
   ],
   "source": [
    "clf = RidgeCV(alphas=(10, 1, 0.1, 0.01, 0.001))\n",
    "clf.fit(X, Y)\n",
    "print(\"Best alpha\", clf.alpha_)  \n",
    "\n",
    "#Other way to find out best aplha \n",
    "#alphas = np.array([10, 1, 0.1, 0.01, 0.001])\n",
    "#model = Ridge()\n",
    "#grid = GridSearchCV(estimator=model, param_grid=dict(alpha=alphas))\n",
    "#grid.fit(X, Y)\n",
    "#print(grid.best_estimator_.alpha)"
   ]
  },
  {
   "cell_type": "markdown",
   "metadata": {},
   "source": [
    "##### i. What is the estimated MSE of the model under 10-fold CV?"
   ]
  },
  {
   "cell_type": "code",
   "execution_count": 603,
   "metadata": {
    "collapsed": false
   },
   "outputs": [
    {
     "name": "stdout",
     "output_type": "stream",
     "text": [
      "Estimated meansquared- error (MSE) of the model is 0.0197950213482\n"
     ]
    }
   ],
   "source": [
    "ridge_clf = linear_model.Ridge(alpha=1.0)\n",
    "ridge_clf.fit(X,Y)\n",
    "mean_sq_err= cross_val_score(ridge_clf,X, Y,None,scoring='neg_mean_squared_error',cv=10)\n",
    "print(\"Estimated meansquared- error (MSE) of the model is\",np.abs(mean_sq_err.mean()))\n"
   ]
  },
  {
   "cell_type": "code",
   "execution_count": null,
   "metadata": {
    "collapsed": false
   },
   "outputs": [],
   "source": []
  },
  {
   "cell_type": "markdown",
   "metadata": {},
   "source": [
    "##### ii. What is the MSE on the training set (train on all the data then test on it all)?"
   ]
  },
  {
   "cell_type": "code",
   "execution_count": 604,
   "metadata": {
    "collapsed": false
   },
   "outputs": [
    {
     "name": "stdout",
     "output_type": "stream",
     "text": [
      "MSE on the training set is 0.02\n"
     ]
    }
   ],
   "source": [
    "\n",
    "print(\"MSE on the training set is {0:0.2f}\".format(np.mean((ridge_clf.predict(X) - Y) ** 2)))\n",
    "\n",
    "#ridge_reg=linear_model.Ridge(alpha = 0.001)\n",
    "#ridge_reg.fit(X,Y)\n",
    "\n",
    "#print(\"Mean squared error: %.2f\"\n",
    "#      % np.mean((ridge_reg.predict(X) - Y) ** 2))\n",
    "#print(\"MSE on the training set is {}\".format(np.mean((ridge_reg.predict(X) - Y) ** 2)))"
   ]
  },
  {
   "cell_type": "markdown",
   "metadata": {
    "collapsed": false
   },
   "source": [
    "### TODO iii. What is the best alpha?\n",
    "iv. What does this say about the amount of overfitting in linear\n",
    "regression for this problem?"
   ]
  },
  {
   "cell_type": "code",
   "execution_count": null,
   "metadata": {
    "collapsed": true
   },
   "outputs": [],
   "source": []
  },
  {
   "cell_type": "markdown",
   "metadata": {},
   "source": [
    "#### c. Now use polynomial features to do quadratic (second-order) polynomial regression.\n",
    "##### i.What is the estimated MSE of the model under 10-fold CV?"
   ]
  },
  {
   "cell_type": "code",
   "execution_count": 605,
   "metadata": {
    "collapsed": false
   },
   "outputs": [
    {
     "name": "stdout",
     "output_type": "stream",
     "text": [
      "Estimated MSE of the model under 10-fold CV is 0.129900067249\n"
     ]
    }
   ],
   "source": [
    "poly_feature = PolynomialFeatures(degree  = 2, interaction_only = False)\n",
    "poly_df = poly_feature.fit_transform(X)\n",
    "ridge_reg.fit(poly_df,y)\n",
    "## caluclating MSE\n",
    "poly_mse= cross_val_score(linearRegression, poly_df, Y,None,scoring='neg_mean_squared_error',cv=10)\n",
    "print(\"Estimated MSE of the model under 10-fold CV is\",np.abs(poly_mse.mean()))\n"
   ]
  },
  {
   "cell_type": "code",
   "execution_count": 606,
   "metadata": {
    "collapsed": false
   },
   "outputs": [
    {
     "name": "stdout",
     "output_type": "stream",
     "text": [
      "Mean squared error: 0.30\n"
     ]
    }
   ],
   "source": [
    "\n",
    "print(\"Mean squared error: %.2f\" % np.mean((ridge_reg.predict(poly_df) - Y) ** 2))"
   ]
  },
  {
   "cell_type": "markdown",
   "metadata": {},
   "source": [
    "### 4. Dirty Data\n",
    "#### Repeat the decision tree learning question for the full (non-clean) data set and present the results.\n",
    "#### a. Are the CV results better or worse? What does this say about the effect of missing values?"
   ]
  },
  {
   "cell_type": "code",
   "execution_count": 607,
   "metadata": {
    "collapsed": false
   },
   "outputs": [
    {
     "data": {
      "text/html": [
       "<div>\n",
       "<table border=\"1\" class=\"dataframe\">\n",
       "  <thead>\n",
       "    <tr style=\"text-align: right;\">\n",
       "      <th></th>\n",
       "      <th>state</th>\n",
       "      <th>county</th>\n",
       "      <th>community</th>\n",
       "      <th>communityname</th>\n",
       "      <th>fold</th>\n",
       "      <th>population</th>\n",
       "      <th>householdsize</th>\n",
       "      <th>racepctblack</th>\n",
       "      <th>racePctWhite</th>\n",
       "      <th>racePctAsian</th>\n",
       "      <th>...</th>\n",
       "      <th>LandArea</th>\n",
       "      <th>PopDens</th>\n",
       "      <th>PctUsePubTrans</th>\n",
       "      <th>PolicCars</th>\n",
       "      <th>PolicOperBudg</th>\n",
       "      <th>LemasPctPolicOnPatr</th>\n",
       "      <th>LemasGangUnitDeploy</th>\n",
       "      <th>LemasPctOfficDrugUn</th>\n",
       "      <th>PolicBudgPerPop</th>\n",
       "      <th>ViolentCrimesPerPop</th>\n",
       "    </tr>\n",
       "  </thead>\n",
       "  <tbody>\n",
       "    <tr>\n",
       "      <th>0</th>\n",
       "      <td>8</td>\n",
       "      <td>?</td>\n",
       "      <td>?</td>\n",
       "      <td>Lakewoodcity</td>\n",
       "      <td>1</td>\n",
       "      <td>0.19</td>\n",
       "      <td>0.33</td>\n",
       "      <td>0.02</td>\n",
       "      <td>0.90</td>\n",
       "      <td>0.12</td>\n",
       "      <td>...</td>\n",
       "      <td>0.12</td>\n",
       "      <td>0.26</td>\n",
       "      <td>0.20</td>\n",
       "      <td>0.06</td>\n",
       "      <td>0.04</td>\n",
       "      <td>0.9</td>\n",
       "      <td>0.5</td>\n",
       "      <td>0.32</td>\n",
       "      <td>0.14</td>\n",
       "      <td>0.20</td>\n",
       "    </tr>\n",
       "    <tr>\n",
       "      <th>1</th>\n",
       "      <td>53</td>\n",
       "      <td>?</td>\n",
       "      <td>?</td>\n",
       "      <td>Tukwilacity</td>\n",
       "      <td>1</td>\n",
       "      <td>0.00</td>\n",
       "      <td>0.16</td>\n",
       "      <td>0.12</td>\n",
       "      <td>0.74</td>\n",
       "      <td>0.45</td>\n",
       "      <td>...</td>\n",
       "      <td>0.02</td>\n",
       "      <td>0.12</td>\n",
       "      <td>0.45</td>\n",
       "      <td>?</td>\n",
       "      <td>?</td>\n",
       "      <td>?</td>\n",
       "      <td>?</td>\n",
       "      <td>0.00</td>\n",
       "      <td>?</td>\n",
       "      <td>0.67</td>\n",
       "    </tr>\n",
       "    <tr>\n",
       "      <th>2</th>\n",
       "      <td>24</td>\n",
       "      <td>?</td>\n",
       "      <td>?</td>\n",
       "      <td>Aberdeentown</td>\n",
       "      <td>1</td>\n",
       "      <td>0.00</td>\n",
       "      <td>0.42</td>\n",
       "      <td>0.49</td>\n",
       "      <td>0.56</td>\n",
       "      <td>0.17</td>\n",
       "      <td>...</td>\n",
       "      <td>0.01</td>\n",
       "      <td>0.21</td>\n",
       "      <td>0.02</td>\n",
       "      <td>?</td>\n",
       "      <td>?</td>\n",
       "      <td>?</td>\n",
       "      <td>?</td>\n",
       "      <td>0.00</td>\n",
       "      <td>?</td>\n",
       "      <td>0.43</td>\n",
       "    </tr>\n",
       "    <tr>\n",
       "      <th>3</th>\n",
       "      <td>34</td>\n",
       "      <td>5</td>\n",
       "      <td>81440</td>\n",
       "      <td>Willingborotownship</td>\n",
       "      <td>1</td>\n",
       "      <td>0.04</td>\n",
       "      <td>0.77</td>\n",
       "      <td>1.00</td>\n",
       "      <td>0.08</td>\n",
       "      <td>0.12</td>\n",
       "      <td>...</td>\n",
       "      <td>0.02</td>\n",
       "      <td>0.39</td>\n",
       "      <td>0.28</td>\n",
       "      <td>?</td>\n",
       "      <td>?</td>\n",
       "      <td>?</td>\n",
       "      <td>?</td>\n",
       "      <td>0.00</td>\n",
       "      <td>?</td>\n",
       "      <td>0.12</td>\n",
       "    </tr>\n",
       "    <tr>\n",
       "      <th>4</th>\n",
       "      <td>42</td>\n",
       "      <td>95</td>\n",
       "      <td>6096</td>\n",
       "      <td>Bethlehemtownship</td>\n",
       "      <td>1</td>\n",
       "      <td>0.01</td>\n",
       "      <td>0.55</td>\n",
       "      <td>0.02</td>\n",
       "      <td>0.95</td>\n",
       "      <td>0.09</td>\n",
       "      <td>...</td>\n",
       "      <td>0.04</td>\n",
       "      <td>0.09</td>\n",
       "      <td>0.02</td>\n",
       "      <td>?</td>\n",
       "      <td>?</td>\n",
       "      <td>?</td>\n",
       "      <td>?</td>\n",
       "      <td>0.00</td>\n",
       "      <td>?</td>\n",
       "      <td>0.03</td>\n",
       "    </tr>\n",
       "  </tbody>\n",
       "</table>\n",
       "<p>5 rows × 128 columns</p>\n",
       "</div>"
      ],
      "text/plain": [
       "   state county community        communityname  fold  population  \\\n",
       "0      8      ?         ?         Lakewoodcity     1        0.19   \n",
       "1     53      ?         ?          Tukwilacity     1        0.00   \n",
       "2     24      ?         ?         Aberdeentown     1        0.00   \n",
       "3     34      5     81440  Willingborotownship     1        0.04   \n",
       "4     42     95      6096    Bethlehemtownship     1        0.01   \n",
       "\n",
       "   householdsize  racepctblack  racePctWhite  racePctAsian  \\\n",
       "0           0.33          0.02          0.90          0.12   \n",
       "1           0.16          0.12          0.74          0.45   \n",
       "2           0.42          0.49          0.56          0.17   \n",
       "3           0.77          1.00          0.08          0.12   \n",
       "4           0.55          0.02          0.95          0.09   \n",
       "\n",
       "          ...           LandArea  PopDens  PctUsePubTrans  PolicCars  \\\n",
       "0         ...               0.12     0.26            0.20       0.06   \n",
       "1         ...               0.02     0.12            0.45          ?   \n",
       "2         ...               0.01     0.21            0.02          ?   \n",
       "3         ...               0.02     0.39            0.28          ?   \n",
       "4         ...               0.04     0.09            0.02          ?   \n",
       "\n",
       "   PolicOperBudg  LemasPctPolicOnPatr  LemasGangUnitDeploy  \\\n",
       "0           0.04                  0.9                  0.5   \n",
       "1              ?                    ?                    ?   \n",
       "2              ?                    ?                    ?   \n",
       "3              ?                    ?                    ?   \n",
       "4              ?                    ?                    ?   \n",
       "\n",
       "   LemasPctOfficDrugUn  PolicBudgPerPop  ViolentCrimesPerPop  \n",
       "0                 0.32             0.14                 0.20  \n",
       "1                 0.00                ?                 0.67  \n",
       "2                 0.00                ?                 0.43  \n",
       "3                 0.00                ?                 0.12  \n",
       "4                 0.00                ?                 0.03  \n",
       "\n",
       "[5 rows x 128 columns]"
      ]
     },
     "execution_count": 607,
     "metadata": {},
     "output_type": "execute_result"
    }
   ],
   "source": [
    "# import dirty data\n",
    "df_d = pd.read_csv('communities-crime-full.csv')\n",
    "df_d.head()"
   ]
  },
  {
   "cell_type": "code",
   "execution_count": 608,
   "metadata": {
    "collapsed": false
   },
   "outputs": [
    {
     "name": "stdout",
     "output_type": "stream",
     "text": [
      "highCrime\n",
      "False    37.261785\n",
      "True     62.738215\n",
      "dtype: float64\n",
      "------------------\n",
      "Percentage Positive Instance = 62.7382146439318\n",
      "Percentage Negative Instance = 37.2617853560682 \n"
     ]
    }
   ],
   "source": [
    "# Making data clean \n",
    "\n",
    "df_d_clean = df_d.replace('?', np.nan)\n",
    "df_d_clean = df_d_clean.drop('community', axis=1).drop('state', axis=1).drop('communityname', axis=1).drop('fold', axis=1).drop('county', axis=1)\n",
    "cols_numeric = df_d_clean.columns\n",
    "imp = Imputer(missing_values='NaN', strategy='mean', axis=0)\n",
    "Y = imp.fit_transform(df_d_clean)\n",
    "df_d_clean = pd.DataFrame(Y)\n",
    "df_d_clean.columns = cols_numeric\n",
    "df_d_clean['highCrime'] = df_d_clean.apply(setHighCrime, axis=1)\n",
    "\n",
    "percentage_intances = df_d_clean.groupby('highCrime').size() * 100 / len(df_d_clean)\n",
    "print(percentage_intances)\n",
    "print(\"------------------\")\n",
    "print(\"Percentage Positive Instance = {}\\nPercentage Negative Instance = {} \".format(percentage_intances[1],percentage_intances[0]))"
   ]
  },
  {
   "cell_type": "code",
   "execution_count": 609,
   "metadata": {
    "collapsed": false
   },
   "outputs": [
    {
     "name": "stdout",
     "output_type": "stream",
     "text": [
      "Training Accuracy = 1.0 Precision = 1.0 Recall = 1.0\n"
     ]
    }
   ],
   "source": [
    "y = df_d_clean[\"highCrime\"]\n",
    "X = df_d_clean.drop('highCrime', axis=1).drop('ViolentCrimesPerPop', axis=1)\n",
    "\n",
    "dt = DecisionTreeClassifier()\n",
    "\n",
    "dt.fit(X,y)\n",
    "predicted = dt.predict(X)\n",
    "\n",
    "recall_score = metrics.recall_score(df_d_clean['highCrime'], predicted)\n",
    "precision_score = metrics.precision_score(df_d_clean['highCrime'], predicted)\n",
    "accuracy_score = metrics.accuracy_score(df_d_clean['highCrime'], predicted)\n",
    "\n",
    "print(\"Training Accuracy = {} Precision = {} Recall = {}\".format(accuracy_score,precision_score,recall_score))"
   ]
  },
  {
   "cell_type": "code",
   "execution_count": 610,
   "metadata": {
    "collapsed": false
   },
   "outputs": [
    {
     "name": "stdout",
     "output_type": "stream",
     "text": [
      "Feature ranking:\n",
      "[44  3  5 29 34]\n",
      "Index(['PctKids2Par', 'racePctWhite', 'racePctHisp', 'PctLess9thGrade',\n",
      "       'PctEmplManu'],\n",
      "      dtype='object')\n"
     ]
    }
   ],
   "source": [
    "# We can check the main features used for classification by checking the feature importnaces, the higher the value,\n",
    "# more important the feature would be.\n",
    "# We can sort the impostamce scores in descending order and take the top most.\n",
    "importances=dt.feature_importances_\n",
    "indices = np.argsort(importances)[::-1]\n",
    "# Print the feature ranking\n",
    "print(\"Feature ranking:\")\n",
    "print(indices[:5])\n",
    "print(X.columns[indices[:5]])"
   ]
  },
  {
   "cell_type": "code",
   "execution_count": 611,
   "metadata": {
    "collapsed": false
   },
   "outputs": [
    {
     "name": "stdout",
     "output_type": "stream",
     "text": [
      "Results after applying 10-fold cross-validation\n",
      "Accuracy: 0.75 (+/- 0.03)\n",
      "Recall 0.789733333333\n",
      "Precision 0.815353041254\n"
     ]
    }
   ],
   "source": [
    "scores = cross_val_score(dt, X, y, cv=10)\n",
    "\n",
    "precision= cross_val_score(dt, X, y, cv=10, scoring='precision')\n",
    "recal = cross_val_score(dt, X, y, cv=10, scoring='recall')\n",
    "print(\"Results after applying 10-fold cross-validation\")\n",
    "print(\"Accuracy: %0.2f (+/- %0.2f)\" % (scores.mean(), scores.std()))\n",
    "print(\"Recall\", np.mean(recal))\n",
    "print(\"Precision\", np.mean(precision))"
   ]
  },
  {
   "cell_type": "markdown",
   "metadata": {},
   "source": [
    "## 5. Team Work"
   ]
  },
  {
   "cell_type": "code",
   "execution_count": 612,
   "metadata": {
    "collapsed": false
   },
   "outputs": [
    {
     "name": "stdout",
     "output_type": "stream",
     "text": [
      "Accuracy is 0.65798319958\n",
      "Precision is 0.647703862247\n",
      "Recall is 0.9976\n",
      "Accuracy is 0.691396984925\n",
      "Precision is 0.674797386791\n",
      "Recall is 0.9856\n"
     ]
    }
   ],
   "source": [
    "svmclf = svm.SVC(kernel='poly')\n",
    "# non clean dataset \n",
    "acc_scores = cross_val_score(svmclf, X, y, cv=10, scoring='accuracy').mean()\n",
    "pre_scores = cross_val_score(svmclf, X, y, cv=10, scoring='precision').mean()\n",
    "rec_scores = cross_val_score(svmclf, X, y, cv=10, scoring='recall').mean()\n",
    "\n",
    "print ('Accuracy is', acc_scores)\n",
    "print ('Precision is', pre_scores)\n",
    "print ('Recall is', rec_scores)\n",
    "\n",
    "# clean dataset\n",
    "X = communities_crime_df.drop('ViolentCrimesPerPop', axis=1).drop('state', axis=1).drop('communityname', axis=1).drop('fold', axis=1).drop('highCrime', axis=1)\n",
    "features = list(X.columns)\n",
    "y = communities_crime_df[\"highCrime\"]\n",
    "\n",
    "acc_scores = cross_val_score(svmclf, X, y, cv=10, scoring='accuracy').mean()\n",
    "pre_scores = cross_val_score(svmclf, X, y, cv=10, scoring='precision').mean()\n",
    "rec_scores = cross_val_score(svmclf, X, y, cv=10, scoring='recall').mean()\n",
    "\n",
    "print ('Accuracy is', acc_scores)\n",
    "print ('Precision is', pre_scores)\n",
    "print ('Recall is', rec_scores)\n"
   ]
  },
  {
   "cell_type": "markdown",
   "metadata": {},
   "source": [
    "## Extra Credit"
   ]
  },
  {
   "cell_type": "markdown",
   "metadata": {},
   "source": [
    "#### GradientBoostingClassifier"
   ]
  },
  {
   "cell_type": "code",
   "execution_count": 613,
   "metadata": {
    "collapsed": false
   },
   "outputs": [
    {
     "name": "stdout",
     "output_type": "stream",
     "text": [
      "Training Accuracy = 0.9257400903161064 Precision = 0.9408 Recall = 0.9408\n"
     ]
    }
   ],
   "source": [
    "df = communities_crime_df.drop('ViolentCrimesPerPop', axis=1).drop('state', axis=1).drop('communityname', axis=1).drop('fold', axis=1).drop('highCrime', axis=1)\n",
    "y = communities_crime_df[\"highCrime\"]\n",
    "X = df\n",
    "clf = GradientBoostingClassifier()\n",
    "clf.fit(X, y)\n",
    "predicted = clf.predict(X)\n",
    "\n",
    "recall_score = metrics.recall_score(communities_crime_df['highCrime'], predicted)\n",
    "precision_score = metrics.precision_score(communities_crime_df['highCrime'], predicted)\n",
    "accuracy_score = metrics.accuracy_score(communities_crime_df['highCrime'], predicted)\n",
    "\n",
    "print(\"Training Accuracy = {} Precision = {} Recall = {}\".format(accuracy_score,precision_score,recall_score))\n",
    "\n"
   ]
  }
 ],
 "metadata": {
  "anaconda-cloud": {},
  "celltoolbar": "Raw Cell Format",
  "kernelspec": {
   "display_name": "Python 3",
   "language": "python",
   "name": "python3"
  },
  "language_info": {
   "codemirror_mode": {
    "name": "ipython",
    "version": 3
   },
   "file_extension": ".py",
   "mimetype": "text/x-python",
   "name": "python",
   "nbconvert_exporter": "python",
   "pygments_lexer": "ipython3",
   "version": "3.6.0"
  }
 },
 "nbformat": 4,
 "nbformat_minor": 1
}
